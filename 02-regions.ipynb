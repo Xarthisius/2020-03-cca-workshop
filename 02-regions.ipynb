{
 "cells": [
  {
   "cell_type": "markdown",
   "metadata": {},
   "source": [
    "# Lesson 02: Exploring data with yt"
   ]
  },
  {
   "cell_type": "markdown",
   "metadata": {},
   "source": [
    "<div class=\"alert alert-block alert-info\">\n",
    " \n",
    "## Goals:\n",
    "\n",
    "* Exploring fields (min/max)\n",
    "* Selecting regions of data\n",
    "* Visualizing regions\n",
    "* Filtering data\n",
    "    \n",
    "</div>"
   ]
  },
  {
   "cell_type": "markdown",
   "metadata": {},
   "source": [
    "Now that we've learned a bit about how to load data with yt and what available objects there are in a field, we can use yt to perform analysis on those fields. "
   ]
  },
  {
   "cell_type": "markdown",
   "metadata": {},
   "source": [
    "### Exploring fields"
   ]
  },
  {
   "cell_type": "markdown",
   "metadata": {},
   "source": [
    "First, let's explore some values that occur in our dat. For this tutorial we'll be using `enzo tiny cosmology`."
   ]
  },
  {
   "cell_type": "code",
   "execution_count": 4,
   "metadata": {},
   "outputs": [
    {
     "name": "stderr",
     "output_type": "stream",
     "text": [
      "yt : [INFO     ] 2020-03-22 18:40:15,944 Files located at /Users/madicken/yt_data/enzo_tiny_cosmology.tar.gz.untar/enzo_tiny_cosmology/\n",
      "yt : [INFO     ] 2020-03-22 18:40:15,945 Default to loading DD0046/DD0046 for enzo_tiny_cosmology dataset\n",
      "yt : [INFO     ] 2020-03-22 18:40:16,049 Parameters: current_time              = 230.66527489234\n",
      "yt : [INFO     ] 2020-03-22 18:40:16,050 Parameters: domain_dimensions         = [32 32 32]\n",
      "yt : [INFO     ] 2020-03-22 18:40:16,050 Parameters: domain_left_edge          = [0. 0. 0.]\n",
      "yt : [INFO     ] 2020-03-22 18:40:16,051 Parameters: domain_right_edge         = [1. 1. 1.]\n",
      "yt : [INFO     ] 2020-03-22 18:40:16,052 Parameters: cosmological_simulation   = 1\n",
      "yt : [INFO     ] 2020-03-22 18:40:16,052 Parameters: current_redshift          = -2.7810863612032e-09\n",
      "yt : [INFO     ] 2020-03-22 18:40:16,054 Parameters: omega_lambda              = 0.727\n",
      "yt : [INFO     ] 2020-03-22 18:40:16,054 Parameters: omega_matter              = 0.273\n",
      "yt : [INFO     ] 2020-03-22 18:40:16,055 Parameters: omega_radiation           = 0.0\n",
      "yt : [INFO     ] 2020-03-22 18:40:16,056 Parameters: hubble_constant           = 0.702\n"
     ]
    }
   ],
   "source": [
    "import yt\n",
    "ds = yt.load_sample('enzo_tiny_cosmology')"
   ]
  },
  {
   "cell_type": "markdown",
   "metadata": {},
   "source": [
    "This particular dataset is a *time series*. yt automatically loads the last file in a time series dataset; in this case it is `DD0046`.\n",
    "\n",
    "Now let's explore a bit of the data contained in this file. First, let's see what fields we can explore:"
   ]
  },
  {
   "cell_type": "code",
   "execution_count": 10,
   "metadata": {},
   "outputs": [
    {
     "data": {
      "text/plain": [
       "[('all', 'creation_time'),\n",
       " ('all', 'dynamical_time'),\n",
       " ('all', 'metallicity_fraction'),\n",
       " ('all', 'particle_index'),\n",
       " ('all', 'particle_mass'),\n",
       " ('all', 'particle_position_x'),\n",
       " ('all', 'particle_position_y'),\n",
       " ('all', 'particle_position_z'),\n",
       " ('all', 'particle_type'),\n",
       " ('all', 'particle_velocity_x'),\n",
       " ('all', 'particle_velocity_y'),\n",
       " ('all', 'particle_velocity_z'),\n",
       " ('enzo', 'Dark_Matter_Density'),\n",
       " ('enzo', 'Density'),\n",
       " ('enzo', 'Metal_Density'),\n",
       " ('enzo', 'Temperature'),\n",
       " ('enzo', 'TotalEnergy'),\n",
       " ('enzo', 'x-velocity'),\n",
       " ('enzo', 'y-velocity'),\n",
       " ('enzo', 'z-velocity'),\n",
       " ('io', 'creation_time'),\n",
       " ('io', 'dynamical_time'),\n",
       " ('io', 'metallicity_fraction'),\n",
       " ('io', 'particle_index'),\n",
       " ('io', 'particle_mass'),\n",
       " ('io', 'particle_position_x'),\n",
       " ('io', 'particle_position_y'),\n",
       " ('io', 'particle_position_z'),\n",
       " ('io', 'particle_type'),\n",
       " ('io', 'particle_velocity_x'),\n",
       " ('io', 'particle_velocity_y'),\n",
       " ('io', 'particle_velocity_z'),\n",
       " ('nbody', 'creation_time'),\n",
       " ('nbody', 'dynamical_time'),\n",
       " ('nbody', 'metallicity_fraction'),\n",
       " ('nbody', 'particle_index'),\n",
       " ('nbody', 'particle_mass'),\n",
       " ('nbody', 'particle_position_x'),\n",
       " ('nbody', 'particle_position_y'),\n",
       " ('nbody', 'particle_position_z'),\n",
       " ('nbody', 'particle_type'),\n",
       " ('nbody', 'particle_velocity_x'),\n",
       " ('nbody', 'particle_velocity_y'),\n",
       " ('nbody', 'particle_velocity_z')]"
      ]
     },
     "execution_count": 10,
     "metadata": {},
     "output_type": "execute_result"
    }
   ],
   "source": [
    "ds.field_list"
   ]
  },
  {
   "cell_type": "markdown",
   "metadata": {},
   "source": [
    "Great! That's a lot of fields. You might know that yt has a lot of tools in visualization, but it can also be used to inspect data. Here's an example where we find the extrema (the min and max) values of the \"density\" field. "
   ]
  },
  {
   "cell_type": "code",
   "execution_count": 15,
   "metadata": {},
   "outputs": [
    {
     "data": {
      "text/plain": [
       "unyt_array([1.59515116e-32, 2.56901687e-25], 'g/cm**3')"
      ]
     },
     "execution_count": 15,
     "metadata": {},
     "output_type": "execute_result"
    }
   ],
   "source": [
    "dd = ds.all_data()\n",
    "dd.quantities.extrema(\"density\")"
   ]
  },
  {
   "cell_type": "markdown",
   "metadata": {},
   "source": [
    "Ok, a few things have happened here. First, we've done this operation `ds.all_data()` which returns a *region* in yt based on the domain boundaries detected when the data was read in. We've returned all of the data in this dataset. \n",
    "\n",
    "We can check this by inspecting the `dd` object, which is a `YTRegion`. "
   ]
  },
  {
   "cell_type": "code",
   "execution_count": 16,
   "metadata": {},
   "outputs": [
    {
     "data": {
      "text/plain": [
       "YTRegion (DD0046): , center=[7.03288339e+25 7.03288339e+25 7.03288339e+25] cm, left_edge=[0. 0. 0.] cm, right_edge=[1.40657668e+26 1.40657668e+26 1.40657668e+26] cm"
      ]
     },
     "execution_count": 16,
     "metadata": {},
     "output_type": "execute_result"
    }
   ],
   "source": [
    "dd"
   ]
  },
  {
   "cell_type": "markdown",
   "metadata": {},
   "source": [
    "Region objects (and in fact any selection of the data) have **quantites** that we can use on them, but they need to be a type data selection. In the previous example, we accessed the `extrema` quantity, whcih returns a unyt array of length two of the minimum and maximum values in the density field of this dataset. \n",
    "\n",
    "Let's see what other quantities are available: "
   ]
  },
  {
   "cell_type": "code",
   "execution_count": 18,
   "metadata": {},
   "outputs": [
    {
     "name": "stdout",
     "output_type": "stream",
     "text": [
      "['WeightedAverageQuantity', 'TotalQuantity', 'TotalMass', 'CenterOfMass', 'BulkVelocity', 'WeightedVariance', 'AngularMomentumVector', 'Extrema', 'SampleAtMaxFieldValues', 'MaxLocation', 'SampleAtMinFieldValues', 'MinLocation', 'SpinParameter']\n"
     ]
    }
   ],
   "source": [
    "print (list(dd.quantities.keys()))"
   ]
  },
  {
   "cell_type": "markdown",
   "metadata": {},
   "source": [
    "ok, now let's examine what arguments we need to pass to get something we want. How about `WeightedAverageQuantity`"
   ]
  },
  {
   "cell_type": "code",
   "execution_count": 20,
   "metadata": {},
   "outputs": [
    {
     "data": {
      "text/plain": [
       "\u001b[0;31mSignature:\u001b[0m      \u001b[0mdd\u001b[0m\u001b[0;34m.\u001b[0m\u001b[0mquantities\u001b[0m\u001b[0;34m.\u001b[0m\u001b[0mweighted_average_quantity\u001b[0m\u001b[0;34m(\u001b[0m\u001b[0mfields\u001b[0m\u001b[0;34m,\u001b[0m \u001b[0mweight\u001b[0m\u001b[0;34m)\u001b[0m\u001b[0;34m\u001b[0m\u001b[0;34m\u001b[0m\u001b[0m\n",
       "\u001b[0;31mType:\u001b[0m           WeightedAverageQuantity\n",
       "\u001b[0;31mString form:\u001b[0m    <yt.data_objects.derived_quantities.WeightedAverageQuantity object at 0x11aac2550>\n",
       "\u001b[0;31mFile:\u001b[0m           ~/repos/yt/yt/data_objects/derived_quantities.py\n",
       "\u001b[0;31mDocstring:\u001b[0m     \n",
       "Calculates the weight average of a field or fields.\n",
       "\n",
       "Returns a YTQuantity for each field requested; if one,\n",
       "it returns a single YTQuantity, if many, it returns a list of YTQuantities\n",
       "in order of the listed fields.\n",
       "\n",
       "Where f is the field and w is the weight, the weighted average is\n",
       "Sum_i(f_i \\* w_i) / Sum_i(w_i).\n",
       "\n",
       "Parameters\n",
       "----------\n",
       "\n",
       "fields : string / tuple, or list of strings / tuples\n",
       "    The field or fields of which the average value is to be calculated.\n",
       "weight : string or tuple\n",
       "    The weight field.\n",
       "\n",
       "Examples\n",
       "--------\n",
       "\n",
       ">>> ds = load(\"IsolatedGalaxy/galaxy0030/galaxy0030\")\n",
       ">>> ad = ds.all_data()\n",
       ">>> print(ad.quantities.weighted_average_quantity([(\"gas\", \"density\"),\n",
       "...                                                (\"gas\", \"temperature\")],\n",
       "...                                                (\"gas\", \"cell_mass\")))\n",
       "\u001b[0;31mCall docstring:\u001b[0m Calculate results for the derived quantity\n"
      ]
     },
     "metadata": {},
     "output_type": "display_data"
    }
   ],
   "source": [
    "dd.quantities.weighted_average_quantity?"
   ]
  },
  {
   "cell_type": "markdown",
   "metadata": {},
   "source": [
    "and now let's calculate the temperature weighted density of this dataset:"
   ]
  },
  {
   "cell_type": "code",
   "execution_count": 21,
   "metadata": {},
   "outputs": [
    {
     "data": {
      "text/plain": [
       "unyt_quantity(8.80691103e-28, 'g/cm**3')"
      ]
     },
     "execution_count": 21,
     "metadata": {},
     "output_type": "execute_result"
    }
   ],
   "source": [
    "dd.quantities.weighted_average_quantity(\"density\", weight=\"temperature\")"
   ]
  },
  {
   "cell_type": "markdown",
   "metadata": {},
   "source": [
    "we can also pass a list of fields with which to calculate a weighted average quantity"
   ]
  },
  {
   "cell_type": "code",
   "execution_count": 22,
   "metadata": {},
   "outputs": [
    {
     "data": {
      "text/plain": [
       "[unyt_quantity(8.80691103e-28, 'g/cm**3'),\n",
       " unyt_quantity(4431128.78427079, 'K')]"
      ]
     },
     "execution_count": 22,
     "metadata": {},
     "output_type": "execute_result"
    }
   ],
   "source": [
    "dd.quantities.weighted_average_quantity([\"density\", \"temperature\"], weight=\"temperature\")"
   ]
  },
  {
   "cell_type": "markdown",
   "metadata": {},
   "source": [
    "<div class=\"alert alert-block alert-warning\">\n",
    "\n",
    "## Interactive Exercise 01\n",
    "    \n",
    "Load in the dataset `enzo_cosmology_plus` and find the  following quantities:\n",
    "    \n",
    "* min and maximum values of each `enzo` field in the entire dataset\n",
    "* the total gas mass in the dataset\n",
    "* the `cell_volume` weighted average density\n",
    "* the location of the min and max values \n",
    "    \n",
    "\n",
    "</div>"
   ]
  },
  {
   "cell_type": "code",
   "execution_count": null,
   "metadata": {},
   "outputs": [],
   "source": [
    "# This is starting cell to do exercise 01"
   ]
  },
  {
   "cell_type": "markdown",
   "metadata": {},
   "source": [
    "<div class=\"alert alert-block alert-success\">\n",
    " \n",
    "### Tips:\n",
    "    \n",
    "* instead of doing `dd = ds.all_data()` and then selecting data with dens = dd[\"density\"], yt has the option to do an automatioc `region selector` with `dens = ds.r[\"density\"]`. `ds.r()` is a `RegionExpression` object and doesn't have any quantities associated with it. When used with a field argument, this function returns a flattened array of the data. \n",
    "* for this tutorial we've only loaded in the last file `DD0046`. However, because this is a time-series dataset there are a number of other files. yt can recognize this by loading with wildcard operators. e.g. `ts = yt.load(\"enzo_tiny_cosmology/DD????/DD????\")`\n",
    "\n",
    "</div>"
   ]
  },
  {
   "cell_type": "markdown",
   "metadata": {},
   "source": [
    "## Volumetric Region Selectors"
   ]
  },
  {
   "cell_type": "markdown",
   "metadata": {},
   "source": [
    "So far we've loaded in the entire dataset with `all_data()`. We learned that this is a special function that returns a YTRegion that spans the entire domain of the data. However, yt has other data selectors that are available, like `sphere`. Let's try to make a sphere object at a random point in our dataset.  "
   ]
  },
  {
   "cell_type": "code",
   "execution_count": null,
   "metadata": {},
   "outputs": [],
   "source": []
  },
  {
   "cell_type": "code",
   "execution_count": null,
   "metadata": {},
   "outputs": [],
   "source": []
  },
  {
   "cell_type": "markdown",
   "metadata": {},
   "source": [
    "<div class=\"alert alert-block alert-warning\">\n",
    "\n",
    "## Interactive Exercise 02\n",
    "    \n",
    "With your previously loaded dataset `enzo_cosmology_plus` and select a region (from the available options [in the docs](https://yt-project.org/doc/analyzing/objects.html#region-reference)) in the domain center with random dimensions. \n",
    "    \n",
    "Now compare the total gas mass, the min, and the max values of the density field for the region you've selected to that of the total dataset that you did in exercise 01. Do they differ? Do they look the same? \n",
    "</div>"
   ]
  },
  {
   "cell_type": "code",
   "execution_count": null,
   "metadata": {},
   "outputs": [],
   "source": [
    "# This is a starting cell to do exercise 02 "
   ]
  },
  {
   "cell_type": "markdown",
   "metadata": {},
   "source": [
    "<div class=\"alert alert-block alert-success\">\n",
    " \n",
    "### Tips:\n",
    "    \n",
    "* \n",
    "*\n",
    "* \n",
    "\n",
    "</div>"
   ]
  },
  {
   "cell_type": "markdown",
   "metadata": {},
   "source": [
    "## Rays and Slices "
   ]
  },
  {
   "cell_type": "code",
   "execution_count": null,
   "metadata": {},
   "outputs": [],
   "source": []
  },
  {
   "cell_type": "code",
   "execution_count": null,
   "metadata": {},
   "outputs": [],
   "source": []
  },
  {
   "cell_type": "code",
   "execution_count": null,
   "metadata": {},
   "outputs": [],
   "source": []
  },
  {
   "cell_type": "markdown",
   "metadata": {},
   "source": [
    "<div class=\"alert alert-block alert-warning\">\n",
    "\n",
    "## Interactive Exercise 03\n",
    "    \n",
    "Load in the dataset `enzo_cosmology_plus` and select a cubic region in the center of it. \n",
    "</div>"
   ]
  },
  {
   "cell_type": "code",
   "execution_count": 49,
   "metadata": {},
   "outputs": [],
   "source": [
    "# This is a cell to start for exercise 03 "
   ]
  },
  {
   "cell_type": "markdown",
   "metadata": {},
   "source": [
    "<div class=\"alert alert-block alert-success\">\n",
    " \n",
    "### Tips:\n",
    "    \n",
    "* `ds.r()` gives us shorthand notation to slice our data as well. For example `ds.r[:,:, 0.5]` will return a YTSlice object at the z midplane of the dataset. \n",
    "*\n",
    "* \n",
    "\n",
    "</div>"
   ]
  },
  {
   "cell_type": "markdown",
   "metadata": {},
   "source": [
    "## Visualizing our Selections "
   ]
  },
  {
   "cell_type": "markdown",
   "metadata": {},
   "source": [
    "The `.plot()` method is an easily accessible way for us to visualize the selections we've been doing with our data. Let's try them out on the objects we've already created in the previous selection. "
   ]
  },
  {
   "cell_type": "code",
   "execution_count": null,
   "metadata": {},
   "outputs": [],
   "source": []
  },
  {
   "cell_type": "code",
   "execution_count": null,
   "metadata": {},
   "outputs": [],
   "source": []
  },
  {
   "cell_type": "markdown",
   "metadata": {},
   "source": [
    "<div class=\"alert alert-block alert-warning\">\n",
    "\n",
    "## Interactive Exercise 04\n",
    "    \n",
    "* create a ray object, a slice object, and an off-axis slice object in the `temperature` field and visualize them with the .plot() object. \n",
    "</div>"
   ]
  },
  {
   "cell_type": "code",
   "execution_count": null,
   "metadata": {},
   "outputs": [],
   "source": [
    "# This is a cell to start exercise 04"
   ]
  },
  {
   "cell_type": "markdown",
   "metadata": {},
   "source": [
    "<div class=\"alert alert-block alert-success\">\n",
    " \n",
    "### Tips:\n",
    "    \n",
    "* \n",
    "*\n",
    "* \n",
    "\n",
    "</div>"
   ]
  },
  {
   "cell_type": "markdown",
   "metadata": {},
   "source": [
    "<div class=\"alert alert-block alert-danger\">\n",
    "\n",
    "## Challenge Exercise\n",
    "    \n",
    "With `enzo_cosmology_plus`, create a selection object composed of a disk and a sphere at arbitrary locations in the data. Slice this sphere at its midpoint and visualize it with `.plot()`\n",
    "</div>"
   ]
  },
  {
   "cell_type": "code",
   "execution_count": 53,
   "metadata": {},
   "outputs": [],
   "source": [
    "# This is a starting cell to do the challenge exercise"
   ]
  },
  {
   "cell_type": "markdown",
   "metadata": {},
   "source": [
    "# Takeaways"
   ]
  },
  {
   "cell_type": "markdown",
   "metadata": {},
   "source": [
    "<div class=\"alert alert-block alert-success\">\n",
    "\n",
    "### There are many ways we can do the same operation with yt\n",
    "### Derived quantities can be calculated on YT selection objects. These objects can be:\n",
    "    \n",
    "* [geometric](https://yt-project.org/doc/analyzing/objects.html#geometric-objects) (object is based on geometry)\n",
    "* [filtering objects](https://yt-project.org/doc/analyzing/objects.html#filtering-and-collection-objects) (object is based on field criteria)\n",
    "* [construction objects](https://yt-project.org/doc/analyzing/objects.html#construction-objects) (data is based on additional analysis)\n",
    "* [collections](https://yt-project.org/doc/analyzing/objects.html#filtering-and-collection-objects) (object is a collection of other objects).\n",
    "    \n",
    "### 2d and 1d objects can be visualized with the `.plot()` method \n",
    "\n",
    "</div>"
   ]
  },
  {
   "cell_type": "code",
   "execution_count": 24,
   "metadata": {},
   "outputs": [
    {
     "data": {
      "text/plain": [
       "\u001b[0;31mSignature:\u001b[0m      \u001b[0mdd\u001b[0m\u001b[0;34m.\u001b[0m\u001b[0mquantities\u001b[0m\u001b[0;34m.\u001b[0m\u001b[0mtotal_mass\u001b[0m\u001b[0;34m(\u001b[0m\u001b[0;34m)\u001b[0m\u001b[0;34m\u001b[0m\u001b[0;34m\u001b[0m\u001b[0m\n",
       "\u001b[0;31mType:\u001b[0m           TotalMass\n",
       "\u001b[0;31mString form:\u001b[0m    <yt.data_objects.derived_quantities.TotalMass object at 0x11aac25f8>\n",
       "\u001b[0;31mFile:\u001b[0m           ~/repos/yt/yt/data_objects/derived_quantities.py\n",
       "\u001b[0;31mDocstring:\u001b[0m     \n",
       "Calculates the total mass of the object. Returns a YTArray where the\n",
       "first element is total gas mass and the second element is total particle\n",
       "mass.\n",
       "\n",
       "Examples\n",
       "--------\n",
       "\n",
       ">>> ds = load(\"IsolatedGalaxy/galaxy0030/galaxy0030\")\n",
       ">>> ad = ds.all_data()\n",
       ">>> print(ad.quantities.total_mass())\n",
       "\u001b[0;31mCall docstring:\u001b[0m Calculate results for the derived quantity\n"
      ]
     },
     "metadata": {},
     "output_type": "display_data"
    }
   ],
   "source": [
    "dd.quantities.total_mass?"
   ]
  },
  {
   "cell_type": "code",
   "execution_count": 44,
   "metadata": {},
   "outputs": [
    {
     "data": {
      "text/plain": [
       "unyt_quantity(2.56901687e-25, 'g/cm**3')"
      ]
     },
     "execution_count": 44,
     "metadata": {},
     "output_type": "execute_result"
    }
   ],
   "source": [
    "dd['density'].max()"
   ]
  },
  {
   "cell_type": "code",
   "execution_count": 40,
   "metadata": {},
   "outputs": [],
   "source": [
    "q = ds.r[:,:,0.5]"
   ]
  },
  {
   "cell_type": "code",
   "execution_count": 60,
   "metadata": {},
   "outputs": [
    {
     "ename": "AttributeError",
     "evalue": "'YTRegion' object has no attribute 'include_above'",
     "output_type": "error",
     "traceback": [
      "\u001b[0;31m---------------------------------------------------------------------------\u001b[0m",
      "\u001b[0;31mAttributeError\u001b[0m                            Traceback (most recent call last)",
      "\u001b[0;32m<ipython-input-60-f67cd4218391>\u001b[0m in \u001b[0;36m<module>\u001b[0;34m()\u001b[0m\n\u001b[0;32m----> 1\u001b[0;31m \u001b[0mss\u001b[0m \u001b[0;34m=\u001b[0m \u001b[0mdd\u001b[0m\u001b[0;34m.\u001b[0m\u001b[0minclude_above\u001b[0m\u001b[0;34m(\u001b[0m\u001b[0;34m'density'\u001b[0m\u001b[0;34m,\u001b[0m \u001b[0;36m2e-30\u001b[0m\u001b[0;34m)\u001b[0m\u001b[0;34m\u001b[0m\u001b[0;34m\u001b[0m\u001b[0m\n\u001b[0m",
      "\u001b[0;31mAttributeError\u001b[0m: 'YTRegion' object has no attribute 'include_above'"
     ]
    }
   ],
   "source": [
    "ss = dd.include_above('density', 2e-30)"
   ]
  },
  {
   "cell_type": "code",
   "execution_count": 43,
   "metadata": {},
   "outputs": [
    {
     "name": "stderr",
     "output_type": "stream",
     "text": [
      "yt : [INFO     ] 2020-03-22 22:07:37,845 xlim = 0.000000 1.000000\n",
      "yt : [INFO     ] 2020-03-22 22:07:37,846 ylim = 0.000000 1.000000\n",
      "yt : [INFO     ] 2020-03-22 22:07:37,848 Making a fixed resolution buffer of (density) 800 by 800\n",
      "yt : [INFO     ] 2020-03-22 22:07:38,010 Making a fixed resolution buffer of (('gas', 'density')) 800 by 800\n"
     ]
    },
    {
     "data": {
      "text/html": [
       "<img style=\"max-width:100%%;max-height:100%%;\" src=\"data:image/png;base64,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\"><br>"
      ],
      "text/plain": [
       "<yt.visualization.plot_window.PWViewerMPL at 0x11a9f8278>"
      ]
     },
     "metadata": {},
     "output_type": "display_data"
    },
    {
     "data": {
      "text/html": [
       "<img style=\"max-width:100%%;max-height:100%%;\" src=\"data:image/png;base64,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\"><br>"
      ],
      "text/plain": [
       "<yt.visualization.plot_window.PWViewerMPL at 0x11a9f8278>"
      ]
     },
     "execution_count": 43,
     "metadata": {},
     "output_type": "execute_result"
    }
   ],
   "source": [
    "ss.plot('density')"
   ]
  },
  {
   "cell_type": "code",
   "execution_count": 46,
   "metadata": {},
   "outputs": [
    {
     "data": {
      "text/plain": [
       "unyt_array([2.08363938e-32, 3.86453040e-29], 'g/cm**3')"
      ]
     },
     "execution_count": 46,
     "metadata": {},
     "output_type": "execute_result"
    }
   ],
   "source": [
    "q.quantities.extrema(\"density\")"
   ]
  },
  {
   "cell_type": "code",
   "execution_count": 47,
   "metadata": {},
   "outputs": [],
   "source": [
    "r = ds.r[\"density\"]"
   ]
  },
  {
   "cell_type": "code",
   "execution_count": 48,
   "metadata": {},
   "outputs": [
    {
     "data": {
      "text/plain": [
       "unyt_array([7.47519545e-32, 7.45410488e-32, 9.32374871e-32, ...,\n",
       "            1.25569486e-30, 6.49324786e-31, 5.05891557e-31], 'g/cm**3')"
      ]
     },
     "execution_count": 48,
     "metadata": {},
     "output_type": "execute_result"
    }
   ],
   "source": [
    "r"
   ]
  },
  {
   "cell_type": "code",
   "execution_count": 58,
   "metadata": {},
   "outputs": [
    {
     "data": {
      "text/plain": [
       "\u001b[0;31mSignature:\u001b[0m \u001b[0mq\u001b[0m\u001b[0;34m.\u001b[0m\u001b[0mplot\u001b[0m\u001b[0;34m(\u001b[0m\u001b[0mfields\u001b[0m\u001b[0;34m=\u001b[0m\u001b[0;32mNone\u001b[0m\u001b[0;34m)\u001b[0m\u001b[0;34m\u001b[0m\u001b[0;34m\u001b[0m\u001b[0m\n",
       "\u001b[0;31mDocstring:\u001b[0m <no docstring>\n",
       "\u001b[0;31mFile:\u001b[0m      ~/repos/yt/yt/data_objects/selection_data_containers.py\n",
       "\u001b[0;31mType:\u001b[0m      method\n"
      ]
     },
     "metadata": {},
     "output_type": "display_data"
    }
   ],
   "source": [
    "q.plot?"
   ]
  },
  {
   "cell_type": "code",
   "execution_count": null,
   "metadata": {},
   "outputs": [],
   "source": []
  }
 ],
 "metadata": {
  "kernelspec": {
   "display_name": "Python 3",
   "language": "python",
   "name": "python3"
  },
  "language_info": {
   "codemirror_mode": {
    "name": "ipython",
    "version": 3
   },
   "file_extension": ".py",
   "mimetype": "text/x-python",
   "name": "python",
   "nbconvert_exporter": "python",
   "pygments_lexer": "ipython3",
   "version": "3.6.7"
  }
 },
 "nbformat": 4,
 "nbformat_minor": 4
}
