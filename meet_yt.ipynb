{
 "cells": [
  {
   "cell_type": "markdown",
   "metadata": {},
   "source": [
    "# Welcome! Let's meet yt!"
   ]
  },
  {
   "cell_type": "code",
   "execution_count": 1,
   "metadata": {},
   "outputs": [],
   "source": [
    "import yt"
   ]
  },
  {
   "cell_type": "code",
   "execution_count": 2,
   "metadata": {},
   "outputs": [
    {
     "name": "stderr",
     "output_type": "stream",
     "text": [
      "yt : [INFO     ] 2020-03-23 08:52:39,465 Files located at /data2/yt_sample_data/IsolatedGalaxy.tar.gz.untar/IsolatedGalaxy/galaxy0030/galaxy0030\n",
      "yt : [INFO     ] 2020-03-23 08:52:39,466 Default to loading galaxy0030/galaxy0030 for IsolatedGalaxy dataset\n",
      "yt : [INFO     ] 2020-03-23 08:52:39,615 Parameters: current_time              = 0.0060000200028298\n",
      "yt : [INFO     ] 2020-03-23 08:52:39,616 Parameters: domain_dimensions         = [32 32 32]\n",
      "yt : [INFO     ] 2020-03-23 08:52:39,616 Parameters: domain_left_edge          = [0. 0. 0.]\n",
      "yt : [INFO     ] 2020-03-23 08:52:39,617 Parameters: domain_right_edge         = [1. 1. 1.]\n",
      "yt : [INFO     ] 2020-03-23 08:52:39,618 Parameters: cosmological_simulation   = 0.0\n"
     ]
    }
   ],
   "source": [
    "ds = yt.load_sample(\"IsolatedGalaxy\")"
   ]
  },
  {
   "cell_type": "code",
   "execution_count": 3,
   "metadata": {},
   "outputs": [
    {
     "data": {
      "text/plain": [
       "{'InitialCycleNumber': 30,\n",
       " 'InitialTime': 0.0060000200028298,\n",
       " 'InitialCPUTime': 1266970000.0,\n",
       " 'CheckpointRestart': 0,\n",
       " 'StopTime': 10,\n",
       " 'StopCycle': 80,\n",
       " 'StopSteps': 10000,\n",
       " 'StopCPUTime': 3600000.0,\n",
       " 'ResubmitOn': 0,\n",
       " 'ResubmitCommand': '(null)',\n",
       " 'MaximumTopGridTimeStep': 1e+20,\n",
       " 'TimeLastRestartDump': 0,\n",
       " 'dtRestartDump': -99999,\n",
       " 'TimeLastDataDump': 0.006,\n",
       " 'dtDataDump': 0.0002,\n",
       " 'TimeLastHistoryDump': 0,\n",
       " 'dtHistoryDump': 0,\n",
       " 'TracerParticleOn': 0,\n",
       " 'TimeLastTracerParticleDump': -99999,\n",
       " 'dtTracerParticleDump': 0,\n",
       " 'TimeLastInterpolatedDataDump': 0,\n",
       " 'dtInterpolatedDataDump': 0,\n",
       " 'NewMovieLeftEdge': array([0.4, 0.4, 0.4]),\n",
       " 'NewMovieRightEdge': array([0.6, 0.6, 0.6]),\n",
       " 'MovieSkipTimestep': -99999,\n",
       " 'Movie3DVolumes': 1,\n",
       " 'MovieVertexCentered': 0,\n",
       " 'NewMovieParticleOn': 1,\n",
       " 'MovieDataField': array([   0, 1000]),\n",
       " 'NewMovieDumpNumber': 0,\n",
       " 'NewMovieName': 'MoviePack',\n",
       " 'MovieTimestepCounter': 17279,\n",
       " 'CycleLastRestartDump': 0,\n",
       " 'CycleSkipRestartDump': 0,\n",
       " 'CycleLastDataDump': 0,\n",
       " 'CycleSkipDataDump': 0,\n",
       " 'CycleLastHistoryDump': 0,\n",
       " 'CycleSkipHistoryDump': 0,\n",
       " 'PythonSubcycleSkip': 1,\n",
       " 'CycleSkipGlobalDataDump': 0,\n",
       " 'SubcycleNumber': 17279,\n",
       " 'SubcycleSkipDataDump': 0,\n",
       " 'SubcycleLastDataDump': -99999,\n",
       " 'OutputFirstTimeAtLevel': 0,\n",
       " 'StopFirstTimeAtLevel': 0,\n",
       " 'FileDirectedOutput': 1,\n",
       " 'WriteBinaryHierarchy': 0,\n",
       " 'RestartDumpNumber': 0,\n",
       " 'DataDumpNumber': 31,\n",
       " 'HistoryDumpNumber': 0,\n",
       " 'TracerParticleDumpNumber': 0,\n",
       " 'RestartDumpName': 'restart',\n",
       " 'DataDumpName': 'galaxy',\n",
       " 'HistoryDumpName': 'history',\n",
       " 'TracerParticleDumpName': 'TracerOutput',\n",
       " 'RedshiftDumpName': 'RedshiftOutput',\n",
       " 'RestartDumpDir': 'RS',\n",
       " 'DataDumpDir': 'DD',\n",
       " 'HistoryDumpDir': 'HD',\n",
       " 'TracerParticleDumpDir': 'TD',\n",
       " 'RedshiftDumpDir': 'RD',\n",
       " 'GlobalDir': '.',\n",
       " 'LoadBalancing': 1,\n",
       " 'ResetLoadBalancing': 0,\n",
       " 'LoadBalancingCycleSkip': 100,\n",
       " 'LoadBalancingMinLevel': 2,\n",
       " 'StaticHierarchy': 0,\n",
       " 'TopGridRank': 3,\n",
       " 'TopGridDimensions': array([32, 32, 32]),\n",
       " 'TopGridGravityBoundary': 1,\n",
       " 'ParticleBoundaryType': 3,\n",
       " 'NumberOfParticles': 1124450,\n",
       " 'CourantSafetyNumber': 0.3,\n",
       " 'PPMFlatteningParameter': 0,\n",
       " 'PPMDiffusionParameter': 0,\n",
       " 'PPMSteepeningParameter': 0,\n",
       " 'ProblemType': 31,\n",
       " 'HydroMethod': 2,\n",
       " 'huge_number': 1e+20,\n",
       " 'tiny_number': 1e-20,\n",
       " 'Gamma': 1.6667,\n",
       " 'PressureFree': 0,\n",
       " 'RefineBy': 2,\n",
       " 'MaximumRefinementLevel': 11,\n",
       " 'MaximumGravityRefinementLevel': 11,\n",
       " 'MaximumParticleRefinementLevel': 11,\n",
       " 'CellFlaggingMethod': array([2, 4, 8]),\n",
       " 'FluxCorrection': 1,\n",
       " 'InterpolationMethod': 1,\n",
       " 'ConservativeInterpolation': 0,\n",
       " 'MinimumEfficiency': 0.4,\n",
       " 'MinimumSubgridEdge': 4,\n",
       " 'MaximumSubgridSize': 300000,\n",
       " 'NumberOfBufferZones': 1,\n",
       " 'MustRefineRegionMinRefinementLevel': -1,\n",
       " 'MetallicityRefinementMinLevel': -1,\n",
       " 'MetallicityRefinementMinMetallicity': 1e-05,\n",
       " 'DomainLeftEdge': array([0, 0, 0]),\n",
       " 'DomainRightEdge': array([1, 1, 1]),\n",
       " 'GridVelocity': array([0, 0, 0]),\n",
       " 'RefineRegionAutoAdjust': 0,\n",
       " 'RefineRegionLeftEdge': array([0, 0, 0]),\n",
       " 'RefineRegionRightEdge': array([1, 1, 1]),\n",
       " 'MustRefineRegionLeftEdge': array([0, 0, 0]),\n",
       " 'MustRefineRegionRightEdge': array([1, 1, 1]),\n",
       " 'DataLabel[0]': 'Density',\n",
       " 'DataUnits[0]': 'none',\n",
       " '#DataCGSConversionFactor[0]': 2.76112e-30,\n",
       " 'DataLabel[1]': 'x-velocity',\n",
       " 'DataUnits[1]': 'none',\n",
       " '#DataCGSConversionFactor[1]': 1324770.0,\n",
       " 'DataLabel[2]': 'y-velocity',\n",
       " 'DataUnits[2]': 'none',\n",
       " '#DataCGSConversionFactor[2]': 1324770.0,\n",
       " 'DataLabel[3]': 'z-velocity',\n",
       " 'DataUnits[3]': 'none',\n",
       " '#DataCGSConversionFactor[3]': 1324770.0,\n",
       " 'DataLabel[4]': 'TotalEnergy',\n",
       " 'DataUnits[4]': 'none',\n",
       " 'DataLabel[5]': 'Bx',\n",
       " 'DataUnits[5]': 'none',\n",
       " 'DataLabel[6]': 'By',\n",
       " 'DataUnits[6]': 'none',\n",
       " 'DataLabel[7]': 'Bz',\n",
       " 'DataUnits[7]': 'none',\n",
       " 'DataLabel[8]': 'PhiField',\n",
       " 'DataUnits[8]': 'none',\n",
       " 'DataLabel[9]': 'Phi_pField',\n",
       " 'DataUnits[9]': 'none',\n",
       " 'DataLabel[10]': 'Electron_Density',\n",
       " 'DataUnits[10]': 'none',\n",
       " '#DataCGSConversionFactor[10]': 2.76112e-30,\n",
       " 'DataLabel[11]': 'HI_Density',\n",
       " 'DataUnits[11]': 'none',\n",
       " '#DataCGSConversionFactor[11]': 2.76112e-30,\n",
       " 'DataLabel[12]': 'HII_Density',\n",
       " 'DataUnits[12]': 'none',\n",
       " '#DataCGSConversionFactor[12]': 2.76112e-30,\n",
       " 'DataLabel[13]': 'HeI_Density',\n",
       " 'DataUnits[13]': 'none',\n",
       " '#DataCGSConversionFactor[13]': 2.76112e-30,\n",
       " 'DataLabel[14]': 'HeII_Density',\n",
       " 'DataUnits[14]': 'none',\n",
       " '#DataCGSConversionFactor[14]': 2.76112e-30,\n",
       " 'DataLabel[15]': 'HeIII_Density',\n",
       " 'DataUnits[15]': 'none',\n",
       " '#DataCGSConversionFactor[15]': 2.76112e-30,\n",
       " 'DataLabel[16]': 'kphHI',\n",
       " 'DataUnits[16]': 'none',\n",
       " 'DataLabel[17]': 'gammaHI',\n",
       " 'DataUnits[17]': 'none',\n",
       " 'DataLabel[18]': 'kphHeI',\n",
       " 'DataUnits[18]': 'none',\n",
       " 'DataLabel[19]': 'kphHeII',\n",
       " 'DataUnits[19]': 'none',\n",
       " 'DataLabel[20]': 'Metal_Density',\n",
       " 'DataUnits[20]': 'none',\n",
       " '#DataCGSConversionFactor[20]': 2.76112e-30,\n",
       " 'DataLabel[21]': 'Galaxy1Colour',\n",
       " 'DataUnits[21]': 'none',\n",
       " '#DataCGSConversionFactor[21]': 2.76112e-30,\n",
       " 'DataLabel[22]': 'Galaxy2Colour',\n",
       " 'DataUnits[22]': 'none',\n",
       " '#DataCGSConversionFactor[22]': 2.76112e-30,\n",
       " 'DataLabel[23]': 'MBHColour',\n",
       " 'DataUnits[23]': 'none',\n",
       " '#DataCGSConversionFactor[23]': 2.76112e-30,\n",
       " 'DataUnits[24]': 'none',\n",
       " '#TimeUnits': 2.32946e+18,\n",
       " '#TemperatureUnits': 21261.6,\n",
       " 'UniformGravity': 0,\n",
       " 'UniformGravityDirection': 0,\n",
       " 'UniformGravityConstant': 1,\n",
       " 'PointSourceGravity': 0,\n",
       " 'PointSourceGravityPosition': array([0, 0, 0]),\n",
       " 'PointSourceGravityConstant': 1,\n",
       " 'PointSourceGravityCoreRadius': 0,\n",
       " 'SelfGravity': 1,\n",
       " 'GravitationalConstant': 12.5664,\n",
       " 'S2ParticleSize': 3,\n",
       " 'GravityResolution': 1,\n",
       " 'ComputePotential': 0,\n",
       " 'PotentialIterations': 8,\n",
       " 'WritePotential': 0,\n",
       " 'BaryonSelfGravityApproximation': 0,\n",
       " 'InlineHaloFinder': 0,\n",
       " 'HaloFinderSubfind': 0,\n",
       " 'HaloFinderCycleSkip': 3,\n",
       " 'HaloFinderRunAfterOutput': 1,\n",
       " 'HaloFinderOutputParticleList': 0,\n",
       " 'HaloFinderMinimumSize': 50,\n",
       " 'HaloFinderLinkingLength': 0.1,\n",
       " 'HaloFinderTimestep': -99999.0,\n",
       " 'HaloFinderLastTime': 0.0,\n",
       " 'GreensFunctionMaxNumber': 30,\n",
       " 'GreensFunctionMaxSize': 1,\n",
       " 'DualEnergyFormalism': 0,\n",
       " 'DualEnergyFormalismEta1': 0.001,\n",
       " 'DualEnergyFormalismEta2': 0.1,\n",
       " 'ParticleCourantSafetyNumber': 0.8,\n",
       " 'RootGridCourantSafetyNumber': 1.0,\n",
       " 'RandomForcing': 0,\n",
       " 'RandomForcingEdot': -1,\n",
       " 'RadiativeCooling': 1,\n",
       " 'GadgetEquilibriumCooling': 0,\n",
       " 'MultiSpecies': 1,\n",
       " 'PrimordialChemistrySolver': 0,\n",
       " 'CIECooling': 1,\n",
       " 'H2OpticalDepthApproximation': 1,\n",
       " 'ThreeBodyRate': 0,\n",
       " 'CloudyCoolingGridFile': '',\n",
       " 'IncludeCloudyHeating': 0,\n",
       " 'IncludeCloudyMMW': 0,\n",
       " 'CMBTemperatureFloor': 1,\n",
       " 'CloudyMetallicityNormalization': 0.018477,\n",
       " 'CloudyElectronFractionFactor': 0.009154,\n",
       " 'MetalCooling': 1,\n",
       " 'MetalCoolingTable': 'metal_cool.dat',\n",
       " 'RadiativeTransfer': 0,\n",
       " 'RadiationXRaySecondaryIon': 1,\n",
       " 'RadiationXRayComptonHeating': 1,\n",
       " 'CRModel': 0,\n",
       " 'ShockMethod': 0,\n",
       " 'ShockTemperatureFloor': 1.0,\n",
       " 'StorePreShockFields': 0,\n",
       " 'RadiationFieldType': 12,\n",
       " 'AdjustUVBackground': 1,\n",
       " 'SetUVBAmplitude': 1,\n",
       " 'SetHeIIHeatingScale': 1.8,\n",
       " 'RadiationFieldLevelRecompute': 0,\n",
       " 'RadiationShield': 1,\n",
       " 'RadiationSpectrumNormalization': 1e-21,\n",
       " 'RadiationSpectrumSlope': 1.5,\n",
       " 'PhotoelectricHeating': 0,\n",
       " 'VelAnyl': 0,\n",
       " 'BAnyl': 0,\n",
       " 'OutputCoolingTime': 1,\n",
       " 'OutputTemperature': 1,\n",
       " 'OutputSmoothedDarkMatter': 0,\n",
       " 'SmoothedDarkMatterNeighbors': 32,\n",
       " 'OutputGriddedStarParticle': 2,\n",
       " 'ZEUSLinearArtificialViscosity': 0,\n",
       " 'ZEUSQuadraticArtificialViscosity': 2,\n",
       " 'UseMinimumPressureSupport': 0,\n",
       " 'MinimumPressureSupportParameter': 100.0,\n",
       " 'RefineByJeansLengthSafetyFactor': 8.0,\n",
       " 'JeansRefinementColdTemperature': -1.0,\n",
       " 'RefineByResistiveLengthSafetyFactor': 2.0,\n",
       " 'MustRefineParticlesRefineToLevel': 11,\n",
       " 'ParticleTypeInFile': 1,\n",
       " 'MoveParticlesBetweenSiblings': 1,\n",
       " 'ParticleSplitterIterations': 1,\n",
       " 'ParticleSplitterChildrenParticleSeparation': 1.0,\n",
       " 'ResetMagneticField': 0,\n",
       " 'ResetMagneticFieldAmplitude': array([0.e+00, 0.e+00, 1.e-10]),\n",
       " 'ParallelRootGridIO': 0,\n",
       " 'ParallelParticleIO': 0,\n",
       " 'Unigrid': 0,\n",
       " 'UnigridTranspose': 0,\n",
       " 'NumberOfRootGridTilesPerDimensionPerProcessor': 1,\n",
       " 'PartitionNestedGrids': 0,\n",
       " 'StaticPartitionNestedGrids': 1,\n",
       " 'ExtractFieldsOnly': 1,\n",
       " 'CubeDumpEnabled': 0,\n",
       " 'Debug1': 0,\n",
       " 'Debug2': 0,\n",
       " 'MemoryLimit': -294967296,\n",
       " 'SlopeFlaggingFields': array([   7359008, -803150544]),\n",
       " 'MinimumSlopeForRefinement': -0.172,\n",
       " 'MinimumOverDensityForRefinement': array([4.0e+00, 4.0e+00, 2.0e-03, 2.0e-03, 2.0e-03, 1.5e+00, 1.5e+00]),\n",
       " 'MinimumMassForRefinement': array([0.00012, 0.00012, 0.0004 , 0.0004 , 0.0004 ]),\n",
       " 'MinimumMassForRefinementLevelExponent': array([-0.697, -0.328,  0.   ,  0.   ,  0.   ,  0.   ,  0.   ]),\n",
       " 'MinimumShearForRefinement': 1.0,\n",
       " 'MinimumPressureJumpForRefinement': 0.33,\n",
       " 'MinimumEnergyRatioForRefinement': 0.4,\n",
       " 'ComovingCoordinates': 0,\n",
       " 'StarParticleCreation': 128,\n",
       " 'StarParticleFeedback': 128,\n",
       " 'NumberOfParticleAttributes': 3,\n",
       " 'AddParticleAttributes': 0,\n",
       " 'SinkMergeDistance': 1.0000000272564224e+16,\n",
       " 'SinkMergeMass': 0.1,\n",
       " 'StellarWindFeedback': 0,\n",
       " 'StellarWindTurnOnMass': 0.1,\n",
       " 'MSStellarWindTurnOnMass': 10.0,\n",
       " 'StarMakerOverDensityThreshold': 75694000.0,\n",
       " 'StarMakerMassEfficiency': 0.5,\n",
       " 'StarMakerMinimumMass': 8000,\n",
       " 'StarMakerMinimumDynamicalTime': 100000.0,\n",
       " 'StarMassEjectionFraction': 0.8,\n",
       " 'StarMetalYield': 0.02,\n",
       " 'StarEnergyToThermalFeedback': 1.5e-07,\n",
       " 'StarEnergyToStellarUV': 1e-06,\n",
       " 'StarEnergyToQuasarUV': 1.67e-06,\n",
       " 'MultiMetals': 0,\n",
       " 'RefineByJeansLengthUnits': 0,\n",
       " 'IsothermalSoundSpeed': 1,\n",
       " 'StarClusterUseMetalField': 0,\n",
       " 'StarClusterMinDynamicalTime': 10000000.0,\n",
       " 'StarClusterIonizingLuminosity': 1e+47,\n",
       " 'StarClusterSNEnergy': 6.8e+48,\n",
       " 'StarClusterSNRadius': 10,\n",
       " 'StarClusterFormEfficiency': 0.1,\n",
       " 'StarClusterMinimumMass': 1000,\n",
       " 'StarClusterCombineRadius': 10,\n",
       " 'StarClusterRegionLeftEdge': array([0., 0., 0.]),\n",
       " 'StarClusterRegionRightEdge': array([1., 1., 1.]),\n",
       " 'PopIIIStarMass': 100,\n",
       " 'PopIIIBlackHoles': 0,\n",
       " 'PopIIIBHLuminosityEfficiency': 0.1,\n",
       " 'PopIIIOverDensityThreshold': 1000000.0,\n",
       " 'PopIIIH2CriticalFraction': 0.0005,\n",
       " 'PopIIIMetalCriticalFraction': 0.0001,\n",
       " 'PopIIISupernovaRadius': 1,\n",
       " 'PopIIISupernovaUseColour': 0,\n",
       " 'PopIIIColorDensityThreshold': 1000000.0,\n",
       " 'PopIIIColorMass': 1000000.0,\n",
       " 'MBHMinDynamicalTime': 10000000.0,\n",
       " 'MBHMinimumMass': 1000,\n",
       " 'MBHAccretion': 4,\n",
       " 'MBHAccretionRadius': -1,\n",
       " 'MBHAccretingMassRatio': -1,\n",
       " 'MBHAccretionFixedTemperature': 11000,\n",
       " 'MBHAccretionFixedRate': 0.0001,\n",
       " 'MBHTurnOffStarFormation': 0,\n",
       " 'MBHCombineRadius': 50,\n",
       " 'MBHFeedback': 0,\n",
       " 'MBHFeedbackRadiativeEfficiency': 0.1,\n",
       " 'MBHFeedbackEnergyCoupling': 5e-05,\n",
       " 'MBHFeedbackMassEjectionFraction': 0.05,\n",
       " 'MBHFeedbackMetalYield': 0.02,\n",
       " 'MBHFeedbackThermalRadius': -50,\n",
       " 'MBHFeedbackJetsThresholdMass': 1000,\n",
       " 'MBHParticleIO': 1,\n",
       " 'MBHParticleIOFilename': 'mbh_particle_io.dat',\n",
       " 'Theta_Limiter': 1.5,\n",
       " 'RiemannSolver': 1,\n",
       " 'ConservativeReconstruction': 0,\n",
       " 'ReconstructionMethod': 0,\n",
       " 'RKOrder': 2,\n",
       " 'UsePhysicalUnit': 0,\n",
       " 'UseFloor': 0,\n",
       " 'UseViscosity': 0,\n",
       " 'ViscosityCoefficient': 0,\n",
       " 'UseAmbipolarDiffusion': 0,\n",
       " 'UseResistivity': 0,\n",
       " 'SmallRho': 1e-30,\n",
       " 'SmallP': 1e-30,\n",
       " 'SmallT': 1e-10,\n",
       " 'MaximumAlvenSpeed': 1e+30,\n",
       " 'Coordinate': 0,\n",
       " 'EOSType': 0,\n",
       " 'EOSSoundSpeed': 26500,\n",
       " 'EOSCriticalDensity': 1e-13,\n",
       " 'EOSGamma': 1.6667,\n",
       " 'Mu': 0.6,\n",
       " 'CoolingCutOffDensity1': 0,\n",
       " 'CoolingCutOffDensity2': 10000000000.0,\n",
       " 'CoolingCutOffTemperature': 0,\n",
       " 'CoolingPowerCutOffDensity1': 0,\n",
       " 'CoolingPowerCutOffDensity2': 10000000000.0,\n",
       " 'UseConstantAcceleration': 0,\n",
       " 'ConstantAcceleration': array([0, 0, 0]),\n",
       " 'UseDrivingField': 0,\n",
       " 'DrivingEfficiency': 1.0,\n",
       " 'DivergenceCleaningBoundaryBuffer': 0,\n",
       " 'UseDivergenceCleaning': 3,\n",
       " 'DivergenceCleaningThreshold': 0.001,\n",
       " 'PoissonApproximationThreshold': 0.001,\n",
       " 'PoissonBoundaryType': 0,\n",
       " 'AngularVelocity': 0.001,\n",
       " 'VelocityGradient': 1.0,\n",
       " 'ShearingVelocityDirection': -1,\n",
       " 'ShearingBoxProblemType': 0,\n",
       " 'LeftFaceBoundaryCondition': array([3, 3, 3]),\n",
       " 'RightFaceBoundaryCondition': array([3, 3, 3]),\n",
       " 'BoundaryConditionName': './DD0030/galaxy0030.boundary',\n",
       " 'MassUnits': 8.11471e+43,\n",
       " 'DensityUnits': 2.76112e-30,\n",
       " 'TimeUnits': 2.32946e+18,\n",
       " 'LengthUnits': 3.086e+24,\n",
       " 'dtPhoton': -99999,\n",
       " 'RadiativeTransferRadiationPressure': 1,\n",
       " 'RadiativeTransferSourceRadius': 0,\n",
       " 'RadiativeTransferPropagationSpeedFraction': 1,\n",
       " 'RadiativeTransferPropagationDistance': 0.099999978626147,\n",
       " 'RadiativeTransferCoupledRateSolver': 1,\n",
       " 'RadiativeTransferOpticallyThinH2': 0,\n",
       " 'RadiativeTransferPeriodicBoundary': 0,\n",
       " 'RadiativeTransferSplitPhotonRadius': 50.0,\n",
       " 'RadiativeTransferRaysPerCell': 5.1,\n",
       " 'RadiativeTransferTimestepVelocityLimit': 100.0,\n",
       " 'RadiativeTransferInitialHEALPixLevel': 3,\n",
       " 'RadiativeTransferPhotonEscapeRadius': 0.0,\n",
       " 'RadiativeTransferInterpolateField': 0,\n",
       " 'RadiativeTransferSourceClustering': 0,\n",
       " 'RadiativeTransferPhotonMergeRadius': 10.0,\n",
       " 'RadiativeTransferHIIRestrictedTimestep': 0,\n",
       " 'RadiativeTransferAdaptiveTimestep': 1,\n",
       " 'RadiativeTransferHydrogenOnly': 0,\n",
       " 'CurrentTimeIdentifier': 1267062935,\n",
       " 'VersionNumber': 1.3}"
      ]
     },
     "execution_count": 3,
     "metadata": {},
     "output_type": "execute_result"
    }
   ],
   "source": [
    "ds.parameters"
   ]
  },
  {
   "cell_type": "code",
   "execution_count": 4,
   "metadata": {},
   "outputs": [
    {
     "data": {
      "text/plain": [
       "unyt_array([1., 1., 1.], 'code_length')"
      ]
     },
     "execution_count": 4,
     "metadata": {},
     "output_type": "execute_result"
    }
   ],
   "source": [
    "ds.domain_width"
   ]
  },
  {
   "cell_type": "code",
   "execution_count": 5,
   "metadata": {},
   "outputs": [
    {
     "data": {
      "text/plain": [
       "(unyt_array([0., 0., 0.], 'code_length'),\n",
       " unyt_array([1., 1., 1.], 'code_length'),\n",
       " array([32, 32, 32]))"
      ]
     },
     "execution_count": 5,
     "metadata": {},
     "output_type": "execute_result"
    }
   ],
   "source": [
    "ds.domain_left_edge, ds.domain_right_edge, ds.domain_dimensions"
   ]
  },
  {
   "cell_type": "code",
   "execution_count": 6,
   "metadata": {},
   "outputs": [
    {
     "data": {
      "text/plain": [
       "unyt_quantity(2.32946e+18, 's')"
      ]
     },
     "execution_count": 6,
     "metadata": {},
     "output_type": "execute_result"
    }
   ],
   "source": [
    "ds.time_unit"
   ]
  },
  {
   "cell_type": "code",
   "execution_count": 7,
   "metadata": {},
   "outputs": [
    {
     "data": {
      "text/plain": [
       "unyt_quantity(0.00600002, 'code_time')"
      ]
     },
     "execution_count": 7,
     "metadata": {},
     "output_type": "execute_result"
    }
   ],
   "source": [
    "ds.current_time"
   ]
  },
  {
   "cell_type": "code",
   "execution_count": 8,
   "metadata": {},
   "outputs": [
    {
     "data": {
      "text/plain": [
       "unyt_quantity(4.42898275e+08, 'yr')"
      ]
     },
     "execution_count": 8,
     "metadata": {},
     "output_type": "execute_result"
    }
   ],
   "source": [
    "ds.current_time.in_units(\"yr\")"
   ]
  },
  {
   "cell_type": "code",
   "execution_count": 20,
   "metadata": {},
   "outputs": [
    {
     "data": {
      "text/plain": [
       "[('all', 'creation_time'),\n",
       " ('all', 'dynamical_time'),\n",
       " ('all', 'metallicity_fraction'),\n",
       " ('all', 'particle_index'),\n",
       " ('all', 'particle_mass'),\n",
       " ('all', 'particle_position_x'),\n",
       " ('all', 'particle_position_y'),\n",
       " ('all', 'particle_position_z'),\n",
       " ('all', 'particle_type'),\n",
       " ('all', 'particle_velocity_x'),\n",
       " ('all', 'particle_velocity_y'),\n",
       " ('all', 'particle_velocity_z'),\n",
       " ('enzo', 'Average_creation_time'),\n",
       " ('enzo', 'Bx'),\n",
       " ('enzo', 'By'),\n",
       " ('enzo', 'Bz'),\n",
       " ('enzo', 'Cooling_Time'),\n",
       " ('enzo', 'Dark_Matter_Density'),\n",
       " ('enzo', 'Density'),\n",
       " ('enzo', 'Electron_Density'),\n",
       " ('enzo', 'Forming_Stellar_Mass_Density'),\n",
       " ('enzo', 'Galaxy1Colour'),\n",
       " ('enzo', 'Galaxy2Colour'),\n",
       " ('enzo', 'HII_Density'),\n",
       " ('enzo', 'HI_Density'),\n",
       " ('enzo', 'HeIII_Density'),\n",
       " ('enzo', 'HeII_Density'),\n",
       " ('enzo', 'HeI_Density'),\n",
       " ('enzo', 'MBHColour'),\n",
       " ('enzo', 'Metal_Density'),\n",
       " ('enzo', 'PhiField'),\n",
       " ('enzo', 'Phi_pField'),\n",
       " ('enzo', 'SFR_Density'),\n",
       " ('enzo', 'Star_Particle_Density'),\n",
       " ('enzo', 'Temperature'),\n",
       " ('enzo', 'TotalEnergy'),\n",
       " ('enzo', 'gammaHI'),\n",
       " ('enzo', 'kphHI'),\n",
       " ('enzo', 'kphHeI'),\n",
       " ('enzo', 'kphHeII'),\n",
       " ('enzo', 'x-velocity'),\n",
       " ('enzo', 'y-velocity'),\n",
       " ('enzo', 'z-velocity'),\n",
       " ('io', 'creation_time'),\n",
       " ('io', 'dynamical_time'),\n",
       " ('io', 'metallicity_fraction'),\n",
       " ('io', 'particle_index'),\n",
       " ('io', 'particle_mass'),\n",
       " ('io', 'particle_position_x'),\n",
       " ('io', 'particle_position_y'),\n",
       " ('io', 'particle_position_z'),\n",
       " ('io', 'particle_type'),\n",
       " ('io', 'particle_velocity_x'),\n",
       " ('io', 'particle_velocity_y'),\n",
       " ('io', 'particle_velocity_z'),\n",
       " ('nbody', 'creation_time'),\n",
       " ('nbody', 'dynamical_time'),\n",
       " ('nbody', 'metallicity_fraction'),\n",
       " ('nbody', 'particle_index'),\n",
       " ('nbody', 'particle_mass'),\n",
       " ('nbody', 'particle_position_x'),\n",
       " ('nbody', 'particle_position_y'),\n",
       " ('nbody', 'particle_position_z'),\n",
       " ('nbody', 'particle_type'),\n",
       " ('nbody', 'particle_velocity_x'),\n",
       " ('nbody', 'particle_velocity_y'),\n",
       " ('nbody', 'particle_velocity_z')]"
      ]
     },
     "execution_count": 20,
     "metadata": {},
     "output_type": "execute_result"
    }
   ],
   "source": [
    "ds.field_list"
   ]
  },
  {
   "cell_type": "code",
   "execution_count": 23,
   "metadata": {},
   "outputs": [
    {
     "data": {
      "text/plain": [
       "Alias Field for \"('enzo', 'x-velocity')\" (gas, velocity_x): (units: cm/s)"
      ]
     },
     "execution_count": 23,
     "metadata": {},
     "output_type": "execute_result"
    }
   ],
   "source": [
    "ds.fields.gas.velocity_x"
   ]
  },
  {
   "cell_type": "code",
   "execution_count": 24,
   "metadata": {},
   "outputs": [
    {
     "data": {
      "text/plain": [
       "On-Disk Field (enzo, x-velocity): (units: code_velocity)"
      ]
     },
     "execution_count": 24,
     "metadata": {},
     "output_type": "execute_result"
    }
   ],
   "source": [
    "ds.field_info[\"enzo\",\"x-velocity\"]"
   ]
  },
  {
   "cell_type": "code",
   "execution_count": 25,
   "metadata": {},
   "outputs": [
    {
     "data": {
      "text/plain": [
       "On-Disk Field (enzo, Density): (units: code_mass / code_length**3)"
      ]
     },
     "execution_count": 25,
     "metadata": {},
     "output_type": "execute_result"
    }
   ],
   "source": [
    "ds.fields.enzo.Density"
   ]
  },
  {
   "cell_type": "code",
   "execution_count": 26,
   "metadata": {},
   "outputs": [
    {
     "data": {
      "text/plain": [
       "Alias Field for \"('enzo', 'Density')\" (gas, density): (units: g/cm**3)"
      ]
     },
     "execution_count": 26,
     "metadata": {},
     "output_type": "execute_result"
    }
   ],
   "source": [
    "ds.fields.gas.density"
   ]
  },
  {
   "cell_type": "code",
   "execution_count": 27,
   "metadata": {},
   "outputs": [
    {
     "name": "stderr",
     "output_type": "stream",
     "text": [
      "/home/mturk/conda-py3/lib/python3.7/site-packages/pooch/core.py:379: UserWarning: Downloading data file 'snapshot_033.tar.gz' from remote data store 'https://yt-project.org/data/snapshot_033.tar.gz' to '/data2/yt_sample_data'.\n",
      "  action_word[action], fname, self.get_url(fname), str(self.path)\n",
      "/home/mturk/conda-py3/lib/python3.7/site-packages/pooch/processors.py:163: UserWarning: Untarring contents of '/data2/yt_sample_data/snapshot_033.tar.gz' to '/data2/yt_sample_data/snapshot_033.tar.gz.untar'\n",
      "  warn(\"Untarring contents of '{}' to '{}'\".format(fname, extract_dir))\n",
      "yt : [INFO     ] 2020-03-23 09:15:52,611 Files located at /data2/yt_sample_data/snapshot_033.tar.gz.untar/snapshot_033/snap_033.\n",
      "yt : [INFO     ] 2020-03-23 09:15:52,612 Default to loading snap_033.0.hdf5 for snapshot_033 dataset\n",
      "yt : [INFO     ] 2020-03-23 09:15:53,061 Parameters: current_time              = 4.343952725460923e+17 s\n",
      "yt : [INFO     ] 2020-03-23 09:15:53,062 Parameters: domain_dimensions         = [1 1 1]\n",
      "yt : [INFO     ] 2020-03-23 09:15:53,063 Parameters: domain_left_edge          = [0. 0. 0.]\n",
      "yt : [INFO     ] 2020-03-23 09:15:53,064 Parameters: domain_right_edge         = [25. 25. 25.]\n",
      "yt : [INFO     ] 2020-03-23 09:15:53,065 Parameters: cosmological_simulation   = 1\n",
      "yt : [INFO     ] 2020-03-23 09:15:53,066 Parameters: current_redshift          = -4.811891664902035e-05\n",
      "yt : [INFO     ] 2020-03-23 09:15:53,066 Parameters: omega_lambda              = 0.762\n",
      "yt : [INFO     ] 2020-03-23 09:15:53,067 Parameters: omega_matter              = 0.238\n",
      "yt : [INFO     ] 2020-03-23 09:15:53,067 Parameters: omega_radiation           = 0.0\n",
      "yt : [INFO     ] 2020-03-23 09:15:53,068 Parameters: hubble_constant           = 0.73\n"
     ]
    }
   ],
   "source": [
    "ds3 = yt.load_sample(\"snapshot_033\")"
   ]
  },
  {
   "cell_type": "code",
   "execution_count": 29,
   "metadata": {},
   "outputs": [
    {
     "name": "stderr",
     "output_type": "stream",
     "text": [
      "yt : [INFO     ] 2020-03-23 09:16:02,830 Allocating for 4.194e+06 particles\n",
      "Initializing coarse index : 100%|██████████| 12/12 [00:00<00:00, 20.37it/s]\n",
      "Initializing refined index: 100%|██████████| 12/12 [00:00<00:00, 16.19it/s]\n",
      "yt : [INFO     ] 2020-03-23 09:16:05,866 Attempting to download ~ 30 Mb of owls ion data from http://yt-project.org/data to /data2/yt_sample_data/.\n",
      "Downloading owls_ion_data.tar.gz to /data2/yt_sample_data : 4it [00:00,  6.88it/s]                       \n"
     ]
    },
    {
     "data": {
      "text/plain": [
       "[('PartType0', 'AExpMaximumEntropy'),\n",
       " ('PartType0', 'AExpMaximumTemperature'),\n",
       " ('PartType0', 'Carbon'),\n",
       " ('PartType0', 'Coordinates'),\n",
       " ('PartType0', 'Density'),\n",
       " ('PartType0', 'Helium'),\n",
       " ('PartType0', 'Hydrogen'),\n",
       " ('PartType0', 'InternalEnergy'),\n",
       " ('PartType0', 'Iron'),\n",
       " ('PartType0', 'IronFromSNIa'),\n",
       " ('PartType0', 'Magnesium'),\n",
       " ('PartType0', 'Mass'),\n",
       " ('PartType0', 'MaximumEntropy'),\n",
       " ('PartType0', 'MaximumTemperature'),\n",
       " ('PartType0', 'Metallicity'),\n",
       " ('PartType0', 'MetallicityWeightedPotential'),\n",
       " ('PartType0', 'MetallicityWeightedRedshift'),\n",
       " ('PartType0', 'Neon'),\n",
       " ('PartType0', 'Nitrogen'),\n",
       " ('PartType0', 'OnEquationOfState'),\n",
       " ('PartType0', 'Oxygen'),\n",
       " ('PartType0', 'ParticleIDs'),\n",
       " ('PartType0', 'Potential'),\n",
       " ('PartType0', 'Silicon'),\n",
       " ('PartType0', 'SmoothedIronFromSNIa'),\n",
       " ('PartType0', 'SmoothedMetallicity'),\n",
       " ('PartType0', 'SmoothingLength'),\n",
       " ('PartType0', 'StarFormationRate'),\n",
       " ('PartType0', 'Temperature'),\n",
       " ('PartType0', 'Velocity'),\n",
       " ('PartType0', 'WindFlag'),\n",
       " ('PartType1', 'Coordinates'),\n",
       " ('PartType1', 'Mass'),\n",
       " ('PartType1', 'ParticleIDs'),\n",
       " ('PartType1', 'Potential'),\n",
       " ('PartType1', 'Velocity'),\n",
       " ('PartType4', 'AExpMaximumEntropy'),\n",
       " ('PartType4', 'AExpMaximumTemperature'),\n",
       " ('PartType4', 'Carbon'),\n",
       " ('PartType4', 'Coordinates'),\n",
       " ('PartType4', 'Density'),\n",
       " ('PartType4', 'Helium'),\n",
       " ('PartType4', 'Hydrogen'),\n",
       " ('PartType4', 'InitialMass'),\n",
       " ('PartType4', 'Iron'),\n",
       " ('PartType4', 'IronFromSNIa'),\n",
       " ('PartType4', 'Magnesium'),\n",
       " ('PartType4', 'Mass'),\n",
       " ('PartType4', 'MaximumEntropy'),\n",
       " ('PartType4', 'MaximumTemperature'),\n",
       " ('PartType4', 'Metallicity'),\n",
       " ('PartType4', 'MetallicityWeightedPotential'),\n",
       " ('PartType4', 'MetallicityWeightedRedshift'),\n",
       " ('PartType4', 'Neon'),\n",
       " ('PartType4', 'Nitrogen'),\n",
       " ('PartType4', 'Oxygen'),\n",
       " ('PartType4', 'ParticleIDs'),\n",
       " ('PartType4', 'Potential'),\n",
       " ('PartType4', 'Silicon'),\n",
       " ('PartType4', 'SmoothedIronFromSNIa'),\n",
       " ('PartType4', 'SmoothedMetallicity'),\n",
       " ('PartType4', 'SmoothingLength'),\n",
       " ('PartType4', 'StellarFormationTime'),\n",
       " ('PartType4', 'Velocity'),\n",
       " ('PartType4', 'WindFlag'),\n",
       " ('all', 'Coordinates'),\n",
       " ('all', 'Mass'),\n",
       " ('all', 'ParticleIDs'),\n",
       " ('all', 'Potential'),\n",
       " ('all', 'Velocity'),\n",
       " ('nbody', 'Coordinates'),\n",
       " ('nbody', 'Mass'),\n",
       " ('nbody', 'ParticleIDs'),\n",
       " ('nbody', 'Potential'),\n",
       " ('nbody', 'Velocity')]"
      ]
     },
     "execution_count": 29,
     "metadata": {},
     "output_type": "execute_result"
    }
   ],
   "source": [
    "ds3.field_list"
   ]
  },
  {
   "cell_type": "code",
   "execution_count": 32,
   "metadata": {},
   "outputs": [],
   "source": [
    "dd = ds3.r[:]"
   ]
  },
  {
   "cell_type": "code",
   "execution_count": 33,
   "metadata": {},
   "outputs": [
    {
     "data": {
      "text/plain": [
       "(4194304, 3)"
      ]
     },
     "execution_count": 33,
     "metadata": {},
     "output_type": "execute_result"
    }
   ],
   "source": [
    "dd[\"all\", \"Coordinates\"].shape"
   ]
  },
  {
   "cell_type": "code",
   "execution_count": 34,
   "metadata": {},
   "outputs": [
    {
     "data": {
      "text/plain": [
       "(2253078, 3)"
      ]
     },
     "execution_count": 34,
     "metadata": {},
     "output_type": "execute_result"
    }
   ],
   "source": [
    "dd[\"nbody\", \"Coordinates\"].shape"
   ]
  },
  {
   "cell_type": "code",
   "execution_count": 35,
   "metadata": {},
   "outputs": [
    {
     "data": {
      "text/plain": [
       "(1941226, 3)"
      ]
     },
     "execution_count": 35,
     "metadata": {},
     "output_type": "execute_result"
    }
   ],
   "source": [
    "dd[\"PartType0\", \"Coordinates\"].shape"
   ]
  },
  {
   "cell_type": "code",
   "execution_count": 40,
   "metadata": {},
   "outputs": [
    {
     "data": {
      "text/plain": [
       "Derived Field (gas, velocity_magnitude): (units: cm/s)"
      ]
     },
     "execution_count": 40,
     "metadata": {},
     "output_type": "execute_result"
    }
   ],
   "source": [
    "ds.fields.gas.velocity_magnitude"
   ]
  },
  {
   "cell_type": "code",
   "execution_count": 42,
   "metadata": {},
   "outputs": [
    {
     "name": "stdout",
     "output_type": "stream",
     "text": [
      "    def _magnitude(field, data):\n",
      "        fn = field_components[0]\n",
      "        if data.has_field_parameter('bulk_%s' % basename):\n",
      "            fn = (fn[0], 'relative_%s' % fn[1])\n",
      "        d = data[fn]\n",
      "        mag = (d)**2\n",
      "        for idim in range(1, registry.ds.dimensionality):\n",
      "            fn = field_components[idim]\n",
      "            if data.has_field_parameter('bulk_%s' % basename):\n",
      "                fn = (fn[0], 'relative_%s' % fn[1])\n",
      "            mag += (data[fn])**2\n",
      "        return np.sqrt(mag)\n",
      "\n"
     ]
    }
   ],
   "source": [
    "print(ds.fields.gas.velocity_magnitude.get_source())"
   ]
  },
  {
   "cell_type": "code",
   "execution_count": 43,
   "metadata": {},
   "outputs": [
    {
     "data": {
      "text/plain": [
       "galaxy0030"
      ]
     },
     "execution_count": 43,
     "metadata": {},
     "output_type": "execute_result"
    }
   ],
   "source": [
    "ds"
   ]
  },
  {
   "cell_type": "code",
   "execution_count": 44,
   "metadata": {},
   "outputs": [],
   "source": [
    "dd = ds.all_data()"
   ]
  },
  {
   "cell_type": "code",
   "execution_count": 45,
   "metadata": {},
   "outputs": [
    {
     "data": {
      "text/plain": [
       "YTRegion (galaxy0030): , center=[1.543e+24 1.543e+24 1.543e+24] cm, left_edge=[0. 0. 0.] cm, right_edge=[3.086e+24 3.086e+24 3.086e+24] cm"
      ]
     },
     "execution_count": 45,
     "metadata": {},
     "output_type": "execute_result"
    }
   ],
   "source": [
    "dd"
   ]
  },
  {
   "cell_type": "code",
   "execution_count": 47,
   "metadata": {},
   "outputs": [
    {
     "data": {
      "text/plain": [
       "(3644460,)"
      ]
     },
     "execution_count": 47,
     "metadata": {},
     "output_type": "execute_result"
    }
   ],
   "source": [
    "dd[\"density\"].shape"
   ]
  },
  {
   "cell_type": "code",
   "execution_count": 49,
   "metadata": {},
   "outputs": [
    {
     "data": {
      "text/plain": [
       "unyt_array([1.44777276e+40, 1.45138685e+40, 1.45085643e+40, ...,\n",
       "            3.31639071e+45, 4.68791489e+45, 3.22665448e+46], 'kg/Mpc**3')"
      ]
     },
     "execution_count": 49,
     "metadata": {},
     "output_type": "execute_result"
    }
   ],
   "source": [
    "dd[\"density\"].in_units(\"kg/Mpc**3\")"
   ]
  },
  {
   "cell_type": "code",
   "execution_count": 50,
   "metadata": {},
   "outputs": [
    {
     "data": {
      "text/plain": [
       "unyt_quantity(8.47293751e-32, 'g/cm**3')"
      ]
     },
     "execution_count": 50,
     "metadata": {},
     "output_type": "execute_result"
    }
   ],
   "source": [
    "dd.min(\"density\")"
   ]
  },
  {
   "cell_type": "code",
   "execution_count": 51,
   "metadata": {},
   "outputs": [
    {
     "data": {
      "text/plain": [
       "unyt_quantity(7.73426504e-24, 'g/cm**3')"
      ]
     },
     "execution_count": 51,
     "metadata": {},
     "output_type": "execute_result"
    }
   ],
   "source": [
    "dd.max(\"density\")"
   ]
  },
  {
   "cell_type": "code",
   "execution_count": 52,
   "metadata": {},
   "outputs": [
    {
     "data": {
      "text/plain": [
       "unyt_quantity(1.25369154e-30, 'g/cm**3')"
      ]
     },
     "execution_count": 52,
     "metadata": {},
     "output_type": "execute_result"
    }
   ],
   "source": [
    "dd.mean(\"density\", weight=\"cell_volume\")"
   ]
  },
  {
   "cell_type": "code",
   "execution_count": 54,
   "metadata": {},
   "outputs": [
    {
     "data": {
      "text/plain": [
       "unyt_quantity(1., '(dimensionless)')"
      ]
     },
     "execution_count": 54,
     "metadata": {},
     "output_type": "execute_result"
    }
   ],
   "source": [
    "dd.sum(\"cell_volume\") / ds.domain_width.prod()"
   ]
  },
  {
   "cell_type": "code",
   "execution_count": 59,
   "metadata": {},
   "outputs": [
    {
     "data": {
      "text/plain": [
       "(unyt_quantity(1.55674988e+24, 'cm'),\n",
       " unyt_quantity(1.53151038e+24, 'cm'),\n",
       " unyt_quantity(1.54394177e+24, 'cm'))"
      ]
     },
     "execution_count": 59,
     "metadata": {},
     "output_type": "execute_result"
    }
   ],
   "source": [
    "dd.argmax(\"density\")"
   ]
  },
  {
   "cell_type": "code",
   "execution_count": 61,
   "metadata": {},
   "outputs": [
    {
     "data": {
      "text/plain": [
       "[unyt_quantity(12295.26171875, 'K'),\n",
       " unyt_quantity(14436241.65739687, 'cm/s'),\n",
       " unyt_quantity(7.73096826e-24, 'g/cm**3')]"
      ]
     },
     "execution_count": 61,
     "metadata": {},
     "output_type": "execute_result"
    }
   ],
   "source": [
    "dd.argmax((\"gas\", \"density\"), axis=[\"temperature\", \"velocity_magnitude\", \"density\"])"
   ]
  },
  {
   "cell_type": "code",
   "execution_count": 74,
   "metadata": {},
   "outputs": [
    {
     "name": "stderr",
     "output_type": "stream",
     "text": [
      "yt : [INFO     ] 2020-03-23 09:31:59,204 Max Value is 7.73427e-24 at 0.5040893554687501 0.4998168945312501 0.5001831054687500\n"
     ]
    }
   ],
   "source": [
    "sp = ds.sphere(\"max\", (100.0, \"kpc\"))"
   ]
  },
  {
   "cell_type": "code",
   "execution_count": 75,
   "metadata": {},
   "outputs": [
    {
     "data": {
      "text/plain": [
       "unyt_quantity(0.00418536, 'code_length**3')"
      ]
     },
     "execution_count": 75,
     "metadata": {},
     "output_type": "execute_result"
    }
   ],
   "source": [
    "sp.sum(\"cell_volume\").in_units(\"code_length**3\")"
   ]
  },
  {
   "cell_type": "code",
   "execution_count": 76,
   "metadata": {},
   "outputs": [],
   "source": [
    "reg = ds.r[0.1:0.9, 0.1:0.9, 0.1:0.9]"
   ]
  },
  {
   "cell_type": "code",
   "execution_count": 78,
   "metadata": {},
   "outputs": [
    {
     "data": {
      "text/plain": [
       "unyt_quantity(0.53637695, 'code_length**3')"
      ]
     },
     "execution_count": 78,
     "metadata": {},
     "output_type": "execute_result"
    }
   ],
   "source": [
    "reg.sum(\"cell_volume\").in_units(\"code_length**3\")"
   ]
  },
  {
   "cell_type": "code",
   "execution_count": 81,
   "metadata": {},
   "outputs": [
    {
     "data": {
      "text/plain": [
       "YTSlice (galaxy0030): , axis=2, coord=1.543e+24 cm"
      ]
     },
     "execution_count": 81,
     "metadata": {},
     "output_type": "execute_result"
    }
   ],
   "source": [
    "ds.r[:, :, 0.5]"
   ]
  },
  {
   "cell_type": "code",
   "execution_count": 82,
   "metadata": {},
   "outputs": [
    {
     "data": {
      "text/plain": [
       "YTPoint (galaxy0030): , p=[1.543e+24 1.543e+24 1.543e+24] cm"
      ]
     },
     "execution_count": 82,
     "metadata": {},
     "output_type": "execute_result"
    }
   ],
   "source": [
    "ds.r[0.5,0.5,0.5]"
   ]
  },
  {
   "cell_type": "code",
   "execution_count": 83,
   "metadata": {},
   "outputs": [
    {
     "data": {
      "text/plain": [
       "YTArbitraryGrid (galaxy0030): , left_edge=[0. 0. 0.] cm, right_edge=[3.086e+24 3.086e+24 3.086e+24] cm, ActiveDimensions=[128 128 128]"
      ]
     },
     "execution_count": 83,
     "metadata": {},
     "output_type": "execute_result"
    }
   ],
   "source": [
    "ds.r[::128j, ::128j, ::128j]"
   ]
  },
  {
   "cell_type": "code",
   "execution_count": 93,
   "metadata": {},
   "outputs": [],
   "source": [
    "def Dinosaurs(field, data):\n",
    "    return data[\"temperature\"]**3/data[\"density\"]**2"
   ]
  },
  {
   "cell_type": "code",
   "execution_count": 97,
   "metadata": {},
   "outputs": [
    {
     "name": "stderr",
     "output_type": "stream",
     "text": [
      "/home/mturk/conda-py3/lib/python3.7/site-packages/ipykernel_launcher.py:1: UserWarning: Because 'sampling_type' not specified, yt will assume a cell 'sampling_type'\n",
      "  \"\"\"Entry point for launching an IPython kernel.\n"
     ]
    }
   ],
   "source": [
    "ds.add_field(\"dinosaurs\", function=Dinosaurs, units=\"K**3*cm**6/g**2\", force_override=True)"
   ]
  },
  {
   "cell_type": "code",
   "execution_count": 98,
   "metadata": {},
   "outputs": [
    {
     "data": {
      "text/plain": [
       "unyt_array([3.35140019e+72, 3.35369810e+72, 3.35082629e+72, ...,\n",
       "            1.29754459e+62, 6.11206647e+61, 8.72867314e+59], 'K**3*cm**6/g**2')"
      ]
     },
     "execution_count": 98,
     "metadata": {},
     "output_type": "execute_result"
    }
   ],
   "source": [
    "dd = ds.all_data()\n",
    "dd[\"dinosaurs\"]"
   ]
  },
  {
   "cell_type": "code",
   "execution_count": null,
   "metadata": {},
   "outputs": [],
   "source": []
  }
 ],
 "metadata": {
  "kernelspec": {
   "display_name": "Python 3",
   "language": "python",
   "name": "python3"
  },
  "language_info": {
   "codemirror_mode": {
    "name": "ipython",
    "version": 3
   },
   "file_extension": ".py",
   "mimetype": "text/x-python",
   "name": "python",
   "nbconvert_exporter": "python",
   "pygments_lexer": "ipython3",
   "version": "3.7.6"
  }
 },
 "nbformat": 4,
 "nbformat_minor": 4
}
